{
 "cells": [
  {
   "cell_type": "markdown",
   "metadata": {},
   "source": [
    "---\n",
    "# Websites to scrape\n",
    "http://breitbart.com\n",
    "\n",
    "http://nytimes.com\n",
    "\n",
    "http://nbcnews.com\n",
    "\n",
    "http://bbc.com\n",
    "\n",
    "---"
   ]
  },
  {
   "cell_type": "code",
   "execution_count": null,
   "metadata": {
    "collapsed": true
   },
   "outputs": [],
   "source": [
    "import newspaper\n",
    "\n",
    "from panorama.scraper import keywords_from_html, keywords_from_nlp"
   ]
  },
  {
   "cell_type": "code",
   "execution_count": null,
   "metadata": {
    "collapsed": false
   },
   "outputs": [],
   "source": [
    "source = \"https://breitbart.com\"\n",
    "paper = newspaper.build(source, memoize_articles=False)\n",
    "print(len(paper.articles))"
   ]
  },
  {
   "cell_type": "code",
   "execution_count": 6,
   "metadata": {
    "collapsed": false
   },
   "outputs": [
    {
     "name": "stdout",
     "output_type": "stream",
     "text": [
      "<type 'str'>\n",
      "<nytimesarticle.articleAPI object at 0x7fd844e79050>\n"
     ]
    }
   ],
   "source": [
    "import nytimesarticle as nyt\n",
    "\n",
    "with open('api-keys/nytimes.txt') as f:\n",
    "    key = f.read()[:-1]\n",
    "    \n",
    "print(type(key))\n",
    "    \n",
    "nyt_api = nyt.articleAPI(key)\n",
    "\n",
    "print(nyt_api)\n"
   ]
  },
  {
   "cell_type": "code",
   "execution_count": 8,
   "metadata": {
    "collapsed": false
   },
   "outputs": [
    {
     "name": "stdout",
     "output_type": "stream",
     "text": [
      "{u'status': u'OK', u'response': {u'docs': [{u'type_of_material': u'Video', u'blog': [], u'news_desk': u'U.S. / Politics', u'lead_paragraph': u'Michael T. Flynn stepped down as national security adviser amid a scandal surrounding his contacts with Russia before President Trump took office.', u'headline': {u'main': u'Why Michael Flynn Resigned'}, u'abstract': None, u'print_page': 0, u'word_count': 22, u'_id': u'58a3bad495d0e02474636828', u'snippet': u'Michael T. Flynn stepped down as national security adviser amid a scandal surrounding his contacts with Russia before President Trump took office....', u'source': u'The New York Times', u'slideshow_credits': None, u'web_url': u'https://www.nytimes.com/video/us/politics/100000004932419/michael-flynn-resigns.html', u'multimedia': [{u'subtype': u'thumbnail', u'url': u'images/2017/02/15/us/15xp-flynntimeline/15xp-flynntimeline-thumbStandard.jpg', u'rank': 0, u'height': 75, u'width': 75, u'legacy': {u'thumbnailheight': 75, u'thumbnail': u'images/2017/02/15/us/15xp-flynntimeline/15xp-flynntimeline-thumbStandard.jpg', u'thumbnailwidth': 75}, u'type': u'image'}, {u'subtype': u'xlarge', u'url': u'images/2017/02/15/us/15xp-flynntimeline/15xp-flynntimeline-articleLarge.jpg', u'rank': 0, u'height': 400, u'width': 600, u'legacy': {u'xlargewidth': 600, u'xlarge': u'images/2017/02/15/us/15xp-flynntimeline/15xp-flynntimeline-articleLarge.jpg', u'xlargeheight': 400}, u'type': u'image'}, {u'subtype': u'wide', u'url': u'images/2017/02/15/us/15xp-flynntimeline/15xp-flynntimeline-thumbWide.jpg', u'rank': 0, u'height': 126, u'width': 190, u'legacy': {u'wide': u'images/2017/02/15/us/15xp-flynntimeline/15xp-flynntimeline-thumbWide.jpg', u'widewidth': 190, u'wideheight': 126}, u'type': u'image'}], u'subsection_name': u'Politics', u'keywords': [{u'isMajor': u'N', u'value': u'Flynn, Michael T', u'name': u'persons', u'rank': 1}, {u'isMajor': u'N', u'value': u'Trump, Donald J', u'name': u'persons', u'rank': 2}, {u'isMajor': u'N', u'value': u'Russia', u'name': u'glocations', u'rank': 3}], u'byline': {u'person': [{u'firstname': u'Susan', u'middlename': u'Joan', u'lastname': u'ARCHER', u'rank': 1, u'role': u'reported', u'organization': u''}, {u'organization': u'', u'role': u'reported', u'firstname': u'Dave', u'rank': 2, u'lastname': u'HORN'}, {u'firstname': u'A.', u'middlename': u'J.', u'lastname': u'CHAVAR', u'rank': 3, u'role': u'reported', u'organization': u''}, {u'organization': u'', u'role': u'reported', u'firstname': u'Robin', u'rank': 4, u'lastname': u'LINDSAY'}], u'original': u'By SUSAN JOAN ARCHER, DAVE HORN, A.J. CHAVAR and ROBIN LINDSAY'}, u'document_type': u'multimedia', u'pub_date': u'2017-02-15T02:19:55+0000', u'section_name': u'U.S.'}, {u'type_of_material': u'News', u'blog': [], u'news_desk': u'Podcasts', u'lead_paragraph': u'From fateful call to resignation, we tell the whole story.', u'headline': {u'main': u'\\u2018The Daily\\u2019: The 47-Day Fall of Michael Flynn', u'kicker': u'The Daily', u'print_headline': u'', u'content_kicker': u'The Daily'}, u'abstract': None, u'print_page': 0, u'word_count': 516, u'_id': u'58a42ee495d0e0247463691e', u'snippet': u'From fateful call to resignation, we tell the whole story....', u'source': u'The New York Times', u'slideshow_credits': None, u'web_url': u'https://www.nytimes.com/2017/02/15/podcasts/the-daily/the-daily-michael-flynn-fall.html', u'multimedia': [{u'subtype': u'thumbnail', u'url': u'images/2017/02/15/podcasts/15DAILY/15DAILY-thumbStandard.jpg', u'rank': 0, u'height': 75, u'width': 75, u'legacy': {u'thumbnailheight': 75, u'thumbnail': u'images/2017/02/15/podcasts/15DAILY/15DAILY-thumbStandard.jpg', u'thumbnailwidth': 75}, u'type': u'image'}, {u'subtype': u'xlarge', u'url': u'images/2017/02/15/podcasts/15DAILY/15DAILY-articleLarge.jpg', u'rank': 0, u'height': 400, u'width': 600, u'legacy': {u'xlargewidth': 600, u'xlarge': u'images/2017/02/15/podcasts/15DAILY/15DAILY-articleLarge.jpg', u'xlargeheight': 400}, u'type': u'image'}, {u'subtype': u'wide', u'url': u'images/2017/02/15/podcasts/15DAILY/15DAILY-thumbWide.jpg', u'rank': 0, u'height': 126, u'width': 190, u'legacy': {u'wide': u'images/2017/02/15/podcasts/15DAILY/15DAILY-thumbWide.jpg', u'widewidth': 190, u'wideheight': 126}, u'type': u'image'}], u'subsection_name': u'The Daily', u'keywords': [{u'isMajor': u'N', u'value': u'The Daily', u'name': u'subject', u'rank': 1}, {u'isMajor': u'N', u'value': u'Flynn, Michael T', u'name': u'persons', u'rank': 2}, {u'isMajor': u'N', u'value': u'United States Politics and Government', u'name': u'subject', u'rank': 3}, {u'isMajor': u'N', u'value': u'Russia', u'name': u'glocations', u'rank': 4}], u'byline': {u'person': [{u'organization': u'', u'role': u'reported', u'firstname': u'Michael', u'rank': 1, u'lastname': u'BARBARO'}], u'original': u'By MICHAEL BARBARO'}, u'document_type': u'article', u'pub_date': u'2017-02-15T10:35:08+0000', u'section_name': u'Podcasts'}, {u'type_of_material': u'News', u'blog': [], u'news_desk': u'Foreign', u'lead_paragraph': u'Moscow seems to be cooling to the new president. Some warn darkly that he may be the next target of a Russophobic American establishment.', u'headline': {u'main': u'With Michael Flynn Gone, Russia Sees a Different Trump', u'print_headline': u'After Security Adviser\\u2019s Fall, a Cautious View Emerges in Moscow'}, u'abstract': None, u'print_page': 16, u'word_count': 1310, u'_id': u'58a31b1c95d0e024746365de', u'snippet': u'Moscow seems to be cooling to the new president. Some warn darkly that he may be the next target of a Russophobic American establishment....', u'source': u'The New York Times', u'slideshow_credits': None, u'web_url': u'https://www.nytimes.com/2017/02/14/world/europe/michael-flynn-russia.html', u'multimedia': [{u'subtype': u'thumbnail', u'url': u'images/2017/02/15/world/15Russia/15Russia-thumbStandard.jpg', u'rank': 0, u'height': 75, u'width': 75, u'legacy': {u'thumbnailheight': 75, u'thumbnail': u'images/2017/02/15/world/15Russia/15Russia-thumbStandard.jpg', u'thumbnailwidth': 75}, u'type': u'image'}, {u'subtype': u'xlarge', u'url': u'images/2017/02/15/world/15Russia/15Russia-articleLarge.jpg', u'rank': 0, u'height': 400, u'width': 600, u'legacy': {u'xlargewidth': 600, u'xlarge': u'images/2017/02/15/world/15Russia/15Russia-articleLarge.jpg', u'xlargeheight': 400}, u'type': u'image'}, {u'subtype': u'wide', u'url': u'images/2017/02/15/world/15Russia/15Russia-thumbWide.jpg', u'rank': 0, u'height': 126, u'width': 190, u'legacy': {u'wide': u'images/2017/02/15/world/15Russia/15Russia-thumbWide.jpg', u'widewidth': 190, u'wideheight': 126}, u'type': u'image'}], u'subsection_name': u'Europe', u'keywords': [{u'isMajor': u'N', u'value': u'Flynn, Michael T', u'name': u'persons', u'rank': 1}, {u'isMajor': u'N', u'value': u'Russia', u'name': u'glocations', u'rank': 2}, {u'isMajor': u'N', u'value': u'United States', u'name': u'glocations', u'rank': 3}, {u'isMajor': u'N', u'value': u'United States International Relations', u'name': u'subject', u'rank': 4}], u'byline': {u'person': [{u'organization': u'', u'role': u'reported', u'firstname': u'Neil', u'rank': 1, u'lastname': u'MacFARQUHAR'}], u'original': u'By NEIL MacFARQUHAR'}, u'document_type': u'article', u'pub_date': u'2017-02-14T14:58:31+0000', u'section_name': u'World'}, {u'type_of_material': u'News', u'blog': [], u'news_desk': u'National', u'lead_paragraph': u'Michael T. Flynn\\u2019s resignation as national security adviser over discussions with the Russian ambassador and charges of Russian interference in the election led to the Democrats\\u2019 call.', u'headline': {u'main': u'Democrats Demand Inquiry of Russian Role in U.S. Affairs; G.O.P. Concern Grows', u'print_headline': u'Democrats Want Inquiry as G.O.P. Concern Grows'}, u'abstract': None, u'print_page': 17, u'word_count': 1137, u'_id': u'58a3388095d0e0247463664c', u'snippet': u'Michael T. Flynn\\u2019s resignation as national security adviser over discussions with the Russian ambassador and charges of Russian interference in the election led to the Democrats\\u2019 call....', u'source': u'The New York Times', u'slideshow_credits': None, u'web_url': u'https://www.nytimes.com/2017/02/14/us/politics/congress-nsc-flynn.html', u'multimedia': [{u'subtype': u'thumbnail', u'url': u'images/2017/02/15/us/15cong2-alt/15cong2-alt-thumbStandard-v2.jpg', u'rank': 0, u'height': 75, u'width': 75, u'legacy': {u'thumbnailheight': 75, u'thumbnail': u'images/2017/02/15/us/15cong2-alt/15cong2-alt-thumbStandard-v2.jpg', u'thumbnailwidth': 75}, u'type': u'image'}, {u'subtype': u'xlarge', u'url': u'images/2017/02/15/us/15cong2-alt/15cong2-alt-articleLarge-v2.jpg', u'rank': 0, u'height': 400, u'width': 600, u'legacy': {u'xlargewidth': 600, u'xlarge': u'images/2017/02/15/us/15cong2-alt/15cong2-alt-articleLarge-v2.jpg', u'xlargeheight': 400}, u'type': u'image'}, {u'subtype': u'wide', u'url': u'images/2017/02/15/us/15cong2-alt/15cong2-alt-thumbWide-v2.jpg', u'rank': 0, u'height': 126, u'width': 190, u'legacy': {u'wide': u'images/2017/02/15/us/15cong2-alt/15cong2-alt-thumbWide-v2.jpg', u'widewidth': 190, u'wideheight': 126}, u'type': u'image'}], u'subsection_name': u'Politics', u'keywords': [{u'isMajor': u'N', u'value': u'United States Politics and Government', u'name': u'subject', u'rank': 1}, {u'isMajor': u'N', u'value': u'Democratic Party', u'name': u'organizations', u'rank': 2}, {u'isMajor': u'N', u'value': u'Flynn, Michael T', u'name': u'persons', u'rank': 3}, {u'isMajor': u'N', u'value': u'Republican Party', u'name': u'organizations', u'rank': 4}, {u'isMajor': u'N', u'value': u'Russia', u'name': u'glocations', u'rank': 5}], u'byline': {u'person': [{u'organization': u'', u'role': u'reported', u'firstname': u'Matt', u'rank': 1, u'lastname': u'FLEGENHEIMER'}, {u'organization': u'', u'role': u'reported', u'firstname': u'Jennifer', u'rank': 2, u'lastname': u'STEINHAUER'}], u'original': u'By MATT FLEGENHEIMER and JENNIFER STEINHAUER'}, u'document_type': u'article', u'pub_date': u'2017-02-14T17:03:53+0000', u'section_name': u'U.S.'}, {u'type_of_material': u'Letter', u'blog': [], u'news_desk': u'Letters', u'lead_paragraph': u'Readers discuss what led to his downfall and the lessons learned.', u'headline': {u'main': u'The Resignation of Michael Flynn', u'kicker': u'Letters', u'print_headline': u'The Resignation of Michael Flynn', u'content_kicker': u'Letters'}, u'abstract': None, u'print_page': 26, u'word_count': 547, u'_id': u'58a37b5e95d0e0247463673f', u'snippet': u'Readers discuss what led to his downfall and the lessons learned....', u'source': u'The New York Times', u'slideshow_credits': None, u'web_url': u'https://www.nytimes.com/2017/02/14/opinion/the-resignation-of-michael-flynn.html', u'multimedia': [{u'subtype': u'thumbnail', u'url': u'images/2017/02/14/us/14flynn/14flynn-thumbStandard.jpg', u'rank': 0, u'height': 75, u'width': 75, u'legacy': {u'thumbnailheight': 75, u'thumbnail': u'images/2017/02/14/us/14flynn/14flynn-thumbStandard.jpg', u'thumbnailwidth': 75}, u'type': u'image'}, {u'subtype': u'xlarge', u'url': u'images/2017/02/14/us/14flynn/14flynn-articleLarge.jpg', u'rank': 0, u'height': 397, u'width': 600, u'legacy': {u'xlargewidth': 600, u'xlarge': u'images/2017/02/14/us/14flynn/14flynn-articleLarge.jpg', u'xlargeheight': 397}, u'type': u'image'}, {u'subtype': u'wide', u'url': u'images/2017/02/14/us/14flynn/14flynn-thumbWide.jpg', u'rank': 0, u'height': 126, u'width': 190, u'legacy': {u'wide': u'images/2017/02/14/us/14flynn/14flynn-thumbWide.jpg', u'widewidth': 190, u'wideheight': 126}, u'type': u'image'}], u'subsection_name': None, u'keywords': [{u'isMajor': u'N', u'value': u'Flynn, Michael T', u'name': u'persons', u'rank': 1}, {u'isMajor': u'N', u'value': u'Trump, Donald J', u'name': u'persons', u'rank': 2}, {u'isMajor': u'N', u'value': u'United States Politics and Government', u'name': u'subject', u'rank': 3}], u'byline': [], u'document_type': u'article', u'pub_date': u'2017-02-14T21:49:09+0000', u'section_name': u'Opinion'}, {u'type_of_material': u'News', u'blog': [], u'news_desk': u'National', u'lead_paragraph': u'The president\\u2019s son-in-law and incoming national security adviser met with the ambassador, Sergey I. Kislyak, for 20 minutes at Trump Tower in December.', u'headline': {u'main': u'Kushner and Flynn Met With Russian Envoy in December, White House Says', u'print_headline': u''}, u'abstract': None, u'print_page': 0, u'word_count': 800, u'_id': u'58b88cda95d0e024902fd384', u'snippet': u'The president\\u2019s son-in-law and incoming national security adviser met with the ambassador, Sergey I. Kislyak, for 20 minutes at Trump Tower in December....', u'source': u'The New York Times', u'slideshow_credits': None, u'web_url': u'https://www.nytimes.com/2017/03/02/us/politics/kushner-flynn-sessions-russia.html', u'multimedia': [{u'subtype': u'thumbnail', u'url': u'images/2017/03/03/us/03kushner/03kushner-thumbStandard.jpg', u'rank': 0, u'height': 75, u'width': 75, u'legacy': {u'thumbnailheight': 75, u'thumbnail': u'images/2017/03/03/us/03kushner/03kushner-thumbStandard.jpg', u'thumbnailwidth': 75}, u'type': u'image'}, {u'subtype': u'xlarge', u'url': u'images/2017/03/03/us/03kushner/03kushner-articleLarge.jpg', u'rank': 0, u'height': 400, u'width': 600, u'legacy': {u'xlargewidth': 600, u'xlarge': u'images/2017/03/03/us/03kushner/03kushner-articleLarge.jpg', u'xlargeheight': 400}, u'type': u'image'}, {u'subtype': u'wide', u'url': u'images/2017/03/03/us/03kushner/03kushner-thumbWide.jpg', u'rank': 0, u'height': 126, u'width': 190, u'legacy': {u'wide': u'images/2017/03/03/us/03kushner/03kushner-thumbWide.jpg', u'widewidth': 190, u'wideheight': 126}, u'type': u'image'}], u'subsection_name': u'Politics', u'keywords': [{u'isMajor': u'N', u'value': u'United States International Relations', u'name': u'subject', u'rank': 1}, {u'isMajor': u'N', u'value': u'United States Politics and Government', u'name': u'subject', u'rank': 2}, {u'isMajor': u'N', u'value': u'Presidential Election of 2016', u'name': u'subject', u'rank': 3}, {u'isMajor': u'N', u'value': u'Flynn, Michael T', u'name': u'persons', u'rank': 4}, {u'isMajor': u'N', u'value': u'Kushner, Jared', u'name': u'persons', u'rank': 5}, {u'isMajor': u'N', u'value': u'Russia', u'name': u'glocations', u'rank': 6}], u'byline': {u'person': [{u'firstname': u'Michael', u'middlename': u'S.', u'lastname': u'SCHMIDT', u'rank': 1, u'role': u'reported', u'organization': u''}, {u'organization': u'', u'role': u'reported', u'firstname': u'Matthew', u'rank': 2, u'lastname': u'ROSENBERG'}, {u'organization': u'', u'role': u'reported', u'firstname': u'Matt', u'rank': 3, u'lastname': u'APUZZO'}], u'original': u'By MICHAEL S. SCHMIDT, MATTHEW ROSENBERG and MATT APUZZO'}, u'document_type': u'article', u'pub_date': u'2017-03-02T21:21:24+0000', u'section_name': u'U.S.'}, {u'type_of_material': u'briefing', u'blog': [], u'news_desk': u'NYTNow', u'lead_paragraph': u'Here\\u2019s what you need to know to start your day.', u'headline': {u'main': u'Michael Flynn, OPEC, India: Your Tuesday Briefing', u'print_headline': u''}, u'abstract': None, u'print_page': 0, u'word_count': 1062, u'_id': u'58a2df4495d0e02474636546', u'snippet': u'Here\\u2019s what you need to know to start your day....', u'source': u'The New York Times', u'slideshow_credits': None, u'web_url': u'https://www.nytimes.com/2017/02/14/briefing/michael-flynn-opec-india.html', u'multimedia': [{u'subtype': u'thumbnail', u'url': u'images/2017/02/15/world/14USBriefing-Flynn2/14USBriefing-Flynn2-thumbStandard.jpg', u'rank': 0, u'height': 75, u'width': 75, u'legacy': {u'thumbnailheight': 75, u'thumbnail': u'images/2017/02/15/world/14USBriefing-Flynn2/14USBriefing-Flynn2-thumbStandard.jpg', u'thumbnailwidth': 75}, u'type': u'image'}, {u'subtype': u'xlarge', u'url': u'images/2017/02/15/world/14USBriefing-Flynn2/14USBriefing-Flynn2-articleLarge.jpg', u'rank': 0, u'height': 400, u'width': 600, u'legacy': {u'xlargewidth': 600, u'xlarge': u'images/2017/02/15/world/14USBriefing-Flynn2/14USBriefing-Flynn2-articleLarge.jpg', u'xlargeheight': 400}, u'type': u'image'}, {u'subtype': u'wide', u'url': u'images/2017/02/15/world/14USBriefing-Flynn2/14USBriefing-Flynn2-thumbWide.jpg', u'rank': 0, u'height': 126, u'width': 190, u'legacy': {u'wide': u'images/2017/02/15/world/14USBriefing-Flynn2/14USBriefing-Flynn2-thumbWide.jpg', u'widewidth': 190, u'wideheight': 126}, u'type': u'image'}], u'subsection_name': None, u'keywords': [], u'byline': {u'person': [{u'organization': u'', u'role': u'reported', u'firstname': u'Sean', u'rank': 1, u'lastname': u'ALFANO'}], u'original': u'By SEAN ALFANO'}, u'document_type': u'article', u'pub_date': u'2017-02-14T10:43:08+0000', u'section_name': u'Briefing'}, {u'type_of_material': u'Video', u'blog': [], u'news_desk': u'World / Europe', u'lead_paragraph': u'Leonid Slutsky, the Foreign Relations Committee chairman in the Russian State Duma, said Tuesday that he sees the accusations surrounding Michael T. Flynn\\u2019s resignation as an attack on Russia and that relations with the United States continue to be on thin ice.', u'headline': {u'main': u'Russia Reacts to Flynn Resignation'}, u'abstract': None, u'print_page': 0, u'word_count': 42, u'_id': u'58a342f995d0e02474636674', u'snippet': u'Leonid Slutsky, the Foreign Relations Committee chairman in the Russian State Duma, said Tuesday that he sees the accusations surrounding Michael T. Flynn\\u2019s resignation as an attack on Russia and that relations with the United States continue to...', u'source': u'The New York Times', u'slideshow_credits': None, u'web_url': u'https://www.nytimes.com/video/world/europe/100000004931140/russia-reacts-to-flynn-resignation.html', u'multimedia': [{u'subtype': u'thumbnail', u'url': u'images/2017/02/15/us/15assess/15assess-thumbStandard.jpg', u'rank': 0, u'height': 75, u'width': 75, u'legacy': {u'thumbnailheight': 75, u'thumbnail': u'images/2017/02/15/us/15assess/15assess-thumbStandard.jpg', u'thumbnailwidth': 75}, u'type': u'image'}, {u'subtype': u'xlarge', u'url': u'images/2017/02/15/us/15assess/15assess-articleLarge.jpg', u'rank': 0, u'height': 400, u'width': 600, u'legacy': {u'xlargewidth': 600, u'xlarge': u'images/2017/02/15/us/15assess/15assess-articleLarge.jpg', u'xlargeheight': 400}, u'type': u'image'}, {u'subtype': u'wide', u'url': u'images/2017/02/15/us/15assess/15assess-thumbWide.jpg', u'rank': 0, u'height': 126, u'width': 190, u'legacy': {u'wide': u'images/2017/02/15/us/15assess/15assess-thumbWide.jpg', u'widewidth': 190, u'wideheight': 126}, u'type': u'image'}], u'subsection_name': u'Europe', u'keywords': [{u'isMajor': u'N', u'value': u'Politics and Government', u'name': u'subject', u'rank': 1}, {u'isMajor': u'N', u'value': u'Flynn, Michael T', u'name': u'persons', u'rank': 2}, {u'isMajor': u'N', u'value': u'Slutsky, Leonid (1968- )', u'name': u'persons', u'rank': 3}, {u'isMajor': u'N', u'value': u'Russia', u'name': u'glocations', u'rank': 4}, {u'isMajor': u'N', u'value': u'United States', u'name': u'glocations', u'rank': 5}], u'byline': {u'person': [{u'organization': u'', u'role': u'reported', u'firstname': u'Elsa', u'rank': 1, u'lastname': u'BUTLER'}], u'original': u'By ELSA BUTLER'}, u'document_type': u'multimedia', u'pub_date': u'2017-02-14T17:48:37+0000', u'section_name': u'World'}, {u'type_of_material': u'News', u'blog': [], u'news_desk': u'None', u'lead_paragraph': u\"President Donald Trump's embattled national security adviser Michael Flynn resigned late Monday night, following reports that he had misled Vice President Mike Pence and other officials about his contacts with Russia. His departure upends Trump's senior team after less than one month in office.\", u'headline': {u'main': u'Trump National Security Adviser Michael Flynn Resigns', u'print_headline': u'Trump National Security Adviser Michael Flynn Resigns'}, u'abstract': None, u'print_page': 0, u'word_count': 1057, u'_id': u'58a16dfe95d0e02474636139', u'snippet': u\"President Donald Trump's embattled national security adviser Michael Flynn resigned late Monday night, following reports that he had misled Vice President Mike Pence and other officials about his contacts with Russia. His departure upends Trump's ...\", u'source': u'AP', u'slideshow_credits': None, u'web_url': u'https://www.nytimes.com/aponline/2017/02/13/us/politics/ap-us-trump.html', u'multimedia': [], u'subsection_name': u'Politics', u'keywords': [], u'byline': {u'person': [], u'original': u'By THE ASSOCIATED PRESS', u'organization': u'THE ASSOCIATED PRESS'}, u'document_type': u'article', u'pub_date': u'2017-02-13T08:27:35+0000', u'section_name': u'U.S.'}, {u'type_of_material': u'News', u'blog': [], u'news_desk': u'Business', u'lead_paragraph': u'Coverage of the resignation of President Trump\\u2019s national security adviser illustrates a split between legacy media and right-leaning outlets.', u'headline': {u'main': u'Divided Media on Michael Flynn: Patriotic Leaks or Political Espionage', u'print_headline': u''}, u'abstract': None, u'print_page': 0, u'word_count': 1056, u'_id': u'58a391f895d0e024746367a8', u'snippet': u'Coverage of the resignation of President Trump\\u2019s national security adviser illustrates a split between legacy media and right-leaning outlets....', u'source': u'The New York Times', u'slideshow_credits': None, u'web_url': u'https://www.nytimes.com/2017/02/14/business/media/divided-media-on-michael-flynn-patriotic-leaks-or-political-espionage.html', u'multimedia': [{u'subtype': u'thumbnail', u'url': u'images/2017/02/15/business/15trumppress-add1/15trumppress-add1-thumbStandard.png', u'rank': 0, u'height': 75, u'width': 75, u'legacy': {u'thumbnailheight': 75, u'thumbnail': u'images/2017/02/15/business/15trumppress-add1/15trumppress-add1-thumbStandard.png', u'thumbnailwidth': 75}, u'type': u'image'}, {u'subtype': u'xlarge', u'url': u'images/2017/02/15/business/15trumppress-add1/15trumppress-add1-articleLarge-v2.png', u'rank': 0, u'height': 448, u'width': 600, u'legacy': {u'xlargewidth': 600, u'xlarge': u'images/2017/02/15/business/15trumppress-add1/15trumppress-add1-articleLarge-v2.png', u'xlargeheight': 448}, u'type': u'image'}, {u'subtype': u'wide', u'url': u'images/2017/02/15/business/15trumppress-add1/15trumppress-add1-thumbWide.png', u'rank': 0, u'height': 126, u'width': 190, u'legacy': {u'wide': u'images/2017/02/15/business/15trumppress-add1/15trumppress-add1-thumbWide.png', u'widewidth': 190, u'wideheight': 126}, u'type': u'image'}], u'subsection_name': u'Media', u'keywords': [{u'isMajor': u'N', u'value': u'News and News Media', u'name': u'subject', u'rank': 1}, {u'isMajor': u'N', u'value': u'United States Politics and Government', u'name': u'subject', u'rank': 2}, {u'isMajor': u'N', u'value': u'Flynn, Michael T', u'name': u'persons', u'rank': 3}, {u'isMajor': u'N', u'value': u'Trump, Donald J', u'name': u'persons', u'rank': 4}, {u'isMajor': u'N', u'value': u'Russia', u'name': u'glocations', u'rank': 5}, {u'isMajor': u'N', u'value': u'Breitbart News Network LLC', u'name': u'organizations', u'rank': 6}, {u'isMajor': u'N', u'value': u'Fox News Channel', u'name': u'organizations', u'rank': 7}, {u'isMajor': u'N', u'value': u'Washington Post', u'name': u'organizations', u'rank': 8}, {u'isMajor': u'N', u'value': u'Classified Information and State Secrets', u'name': u'subject', u'rank': 9}], u'byline': {u'person': [{u'organization': u'', u'role': u'reported', u'firstname': u'Sydney', u'rank': 1, u'lastname': u'EMBER'}], u'original': u'By SYDNEY EMBER'}, u'document_type': u'article', u'pub_date': u'2017-02-14T23:25:39+0000', u'section_name': u'Business Day'}], u'meta': {u'hits': 8779, u'offset': 0, u'time': 38}}, u'copyright': u'Copyright (c) 2013 The New York Times Company.  All Rights Reserved.'}\n"
     ]
    }
   ],
   "source": [
    "articles = nyt_api.search(q='Michael Flynn')\n",
    "print(articles)"
   ]
  },
  {
   "cell_type": "code",
   "execution_count": null,
   "metadata": {
    "collapsed": false
   },
   "outputs": [],
   "source": [
    "a_url = \"https://www.washingtonpost.com/world/national-security/national-security-adviser-flynn-discussed-sanctions-with-russian-ambassador-despite-denials-officials-say/2017/02/09/f85b29d6-ee11-11e6-b4ff-ac2cf509efe5_story.html?utm_term=.ecece79882e9\"\n",
    "art = newspaper.Article(url=a_url)\n",
    "art.download()"
   ]
  },
  {
   "cell_type": "code",
   "execution_count": null,
   "metadata": {
    "collapsed": false
   },
   "outputs": [],
   "source": [
    "art.parse()\n",
    "print(art.authors)"
   ]
  },
  {
   "cell_type": "code",
   "execution_count": null,
   "metadata": {
    "collapsed": false
   },
   "outputs": [],
   "source": [
    "import json\n",
    "info = {'Topic': 'Michael Flynn',\n",
    "        'Host': 'Washington Post',\n",
    "        'Source': 'Associated Press'}\n",
    "info_json = json.dumps(info)\n",
    "print(info_json)\n",
    "print(type(info_json))"
   ]
  }
 ],
 "metadata": {
  "kernelspec": {
   "display_name": "Python 2",
   "language": "python",
   "name": "python2"
  },
  "language_info": {
   "codemirror_mode": {
    "name": "ipython",
    "version": 2
   },
   "file_extension": ".py",
   "mimetype": "text/x-python",
   "name": "python",
   "nbconvert_exporter": "python",
   "pygments_lexer": "ipython2",
   "version": "2.7.12"
  }
 },
 "nbformat": 4,
 "nbformat_minor": 1
}
