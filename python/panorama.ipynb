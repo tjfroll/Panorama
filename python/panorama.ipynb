{
 "cells": [
  {
   "cell_type": "markdown",
   "metadata": {},
   "source": [
    "---\n",
    "# Websites to scrape\n",
    "http://breitbart.com\n",
    "\n",
    "http://nytimes.com\n",
    "\n",
    "http://nbcnews.com\n",
    "\n",
    "http://bbc.com\n",
    "\n",
    "---"
   ]
  },
  {
   "cell_type": "code",
   "execution_count": null,
   "metadata": {
    "collapsed": true
   },
   "outputs": [],
   "source": [
    "import newspaper\n",
    "\n",
    "from panorama.scraper import keywords_from_html, keywords_from_nlp"
   ]
  },
  {
   "cell_type": "code",
   "execution_count": null,
   "metadata": {
    "collapsed": false
   },
   "outputs": [],
   "source": [
    "source = \"https://breitbart.com\"\n",
    "paper = newspaper.build(source, memoize_articles=False)\n",
    "print(len(paper.articles))"
   ]
  },
  {
   "cell_type": "code",
   "execution_count": 2,
   "metadata": {
    "collapsed": false
   },
   "outputs": [],
   "source": [
    "import nytimesarticle as nyt\n",
    "\n",
    "with open('api-keys/nytimes.txt') as f:\n",
    "    key = f.read()[:-1]\n",
    "\n",
    "nyt_api = nyt.articleAPI(key)"
   ]
  },
  {
   "cell_type": "code",
   "execution_count": 95,
   "metadata": {
    "collapsed": false
   },
   "outputs": [],
   "source": [
    "articles = nyt_api.search(q='Michael Flynn')"
   ]
  },
  {
   "cell_type": "code",
   "execution_count": 68,
   "metadata": {
    "collapsed": false
   },
   "outputs": [
    {
     "name": "stdout",
     "output_type": "stream",
     "text": [
      "[u'Trump, Donald J', u'Trump Organization', u'Conflicts of Interest', u'United States Politics and Government', u'Suits and Litigation (Civil)']\n"
     ]
    }
   ],
   "source": [
    "docs = articles['response']['docs']\n",
    "print([w['value'] for w in docs[2]['keywords']])"
   ]
  },
  {
   "cell_type": "code",
   "execution_count": 98,
   "metadata": {
    "collapsed": false
   },
   "outputs": [
    {
     "name": "stdout",
     "output_type": "stream",
     "text": [
      "{u'type_of_material': u'Letter', u'blog': [], u'news_desk': u'Letters', u'lead_paragraph': u'Readers discuss what led to his downfall and the lessons learned.', u'headline': {u'main': u'The Resignation of Michael Flynn', u'kicker': u'Letters', u'print_headline': u'The Resignation of Michael Flynn', u'content_kicker': u'Letters'}, u'abstract': None, u'print_page': 26, u'word_count': 547, u'_id': u'58a37b5e95d0e0247463673f', u'snippet': u'Readers discuss what led to his downfall and the lessons learned....', u'source': u'The New York Times', u'slideshow_credits': None, u'web_url': u'https://www.nytimes.com/2017/02/14/opinion/the-resignation-of-michael-flynn.html', u'multimedia': [{u'subtype': u'thumbnail', u'url': u'images/2017/02/14/us/14flynn/14flynn-thumbStandard.jpg', u'rank': 0, u'height': 75, u'width': 75, u'legacy': {u'thumbnailheight': 75, u'thumbnail': u'images/2017/02/14/us/14flynn/14flynn-thumbStandard.jpg', u'thumbnailwidth': 75}, u'type': u'image'}, {u'subtype': u'xlarge', u'url': u'images/2017/02/14/us/14flynn/14flynn-articleLarge.jpg', u'rank': 0, u'height': 397, u'width': 600, u'legacy': {u'xlargewidth': 600, u'xlarge': u'images/2017/02/14/us/14flynn/14flynn-articleLarge.jpg', u'xlargeheight': 397}, u'type': u'image'}, {u'subtype': u'wide', u'url': u'images/2017/02/14/us/14flynn/14flynn-thumbWide.jpg', u'rank': 0, u'height': 126, u'width': 190, u'legacy': {u'wide': u'images/2017/02/14/us/14flynn/14flynn-thumbWide.jpg', u'widewidth': 190, u'wideheight': 126}, u'type': u'image'}], u'subsection_name': None, u'keywords': [{u'isMajor': u'N', u'value': u'Flynn, Michael T', u'name': u'persons', u'rank': 1}, {u'isMajor': u'N', u'value': u'Trump, Donald J', u'name': u'persons', u'rank': 2}, {u'isMajor': u'N', u'value': u'United States Politics and Government', u'name': u'subject', u'rank': 3}], u'byline': [], u'document_type': u'article', u'pub_date': u'2017-02-14T21:49:09+0000', u'section_name': u'Opinion'}\n"
     ]
    }
   ],
   "source": [
    "docs = articles['response']['docs']\n",
    "doc = docs[5]\n",
    "print(doc)"
   ]
  },
  {
   "cell_type": "code",
   "execution_count": null,
   "metadata": {
    "collapsed": false
   },
   "outputs": [],
   "source": [
    "art.parse()\n",
    "print(art.authors)"
   ]
  },
  {
   "cell_type": "code",
   "execution_count": 71,
   "metadata": {
    "collapsed": false
   },
   "outputs": [],
   "source": [
    "import json\n",
    "info1 = {'Topic': 'Michael Flynn',\n",
    "        'Host': 'Washington Post',\n",
    "        'Source': 'Associated Press'}\n",
    "info2 = {'Topic': 'Donald Trump',\n",
    "        'Host': 'The New York Times',\n",
    "        'Source': 'Associated Press'}\n",
    "with open('test.json', 'wa') as fp:\n",
    "    json.dump(info1, fp)\n",
    "\n",
    "with open('test.json', 'a') as fp:\n",
    "    json.dump(info2, fp)\n"
   ]
  }
 ],
 "metadata": {
  "kernelspec": {
   "display_name": "Python 2",
   "language": "python",
   "name": "python2"
  },
  "language_info": {
   "codemirror_mode": {
    "name": "ipython",
    "version": 2
   },
   "file_extension": ".py",
   "mimetype": "text/x-python",
   "name": "python",
   "nbconvert_exporter": "python",
   "pygments_lexer": "ipython2",
   "version": "2.7.12"
  }
 },
 "nbformat": 4,
 "nbformat_minor": 1
}
