{
 "cells": [
  {
   "cell_type": "markdown",
   "metadata": {},
   "source": [
    "---\n",
    "# Websites to scrape\n",
    "http://breitbart.com\n",
    "\n",
    "http://nytimes.com\n",
    "\n",
    "http://nbcnews.com\n",
    "\n",
    "http://bbc.com\n",
    "\n",
    "---"
   ]
  },
  {
   "cell_type": "code",
   "execution_count": 1,
   "metadata": {
    "collapsed": true
   },
   "outputs": [],
   "source": [
    "import newspaper\n",
    "\n",
    "from newsagg.scraper import keywords_from_html, keywords_from_nlp"
   ]
  },
  {
   "cell_type": "code",
   "execution_count": 2,
   "metadata": {
    "collapsed": false
   },
   "outputs": [],
   "source": [
    "a_url = \"https://www.washingtonpost.com/world/national-security/national-security-adviser-flynn-discussed-sanctions-with-russian-ambassador-despite-denials-officials-say/2017/02/09/f85b29d6-ee11-11e6-b4ff-ac2cf509efe5_story.html?utm_term=.ecece79882e9\"\n",
    "art = newspaper.Article(url=a_url)\n",
    "art.download()"
   ]
  },
  {
   "cell_type": "code",
   "execution_count": 7,
   "metadata": {
    "collapsed": false
   },
   "outputs": [
    {
     "name": "stdout",
     "output_type": "stream",
     "text": [
      "{\"Topic\": \"Michael Flynn\", \"Source\": \"Associated Press\", \"Host\": \"Washington Post\"}\n",
      "<type 'str'>\n"
     ]
    }
   ],
   "source": [
    "import json\n",
    "info = {'Topic': 'Michael Flynn',\n",
    "        'Host': 'Washington Post',\n",
    "        'Source': 'Associated Press'}\n",
    "info_json = json.dumps(info)\n",
    "print(info_json)\n",
    "print(type(info_json))"
   ]
  }
 ],
 "metadata": {
  "kernelspec": {
   "display_name": "Python 2",
   "language": "python",
   "name": "python2"
  },
  "language_info": {
   "codemirror_mode": {
    "name": "ipython",
    "version": 2
   },
   "file_extension": ".py",
   "mimetype": "text/x-python",
   "name": "python",
   "nbconvert_exporter": "python",
   "pygments_lexer": "ipython2",
   "version": "2.7.12"
  }
 },
 "nbformat": 4,
 "nbformat_minor": 1
}
